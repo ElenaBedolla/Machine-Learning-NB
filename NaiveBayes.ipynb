{
  "nbformat": 4,
  "nbformat_minor": 0,
  "metadata": {
    "colab": {
      "name": "Untitled1.ipynb",
      "provenance": [],
      "authorship_tag": "ABX9TyNQOUp4KGwdo4mx++Np+9LD",
      "include_colab_link": true
    },
    "kernelspec": {
      "name": "python3",
      "display_name": "Python 3"
    }
  },
  "cells": [
    {
      "cell_type": "markdown",
      "metadata": {
        "id": "view-in-github",
        "colab_type": "text"
      },
      "source": [
        "<a href=\"https://colab.research.google.com/github/ElenaBedolla/yorch/blob/master/NaiveBayes.ipynb\" target=\"_parent\"><img src=\"https://colab.research.google.com/assets/colab-badge.svg\" alt=\"Open In Colab\"/></a>"
      ]
    },
    {
      "cell_type": "code",
      "metadata": {
        "id": "1yUe8xWth7nz",
        "colab_type": "code",
        "colab": {}
      },
      "source": [
        "import pandas as pd\n",
        "import numpy as np"
      ],
      "execution_count": 0,
      "outputs": []
    },
    {
      "cell_type": "code",
      "metadata": {
        "id": "DqYbFd_Hj0Ln",
        "colab_type": "code",
        "colab": {}
      },
      "source": [
        "def bayes(X, y, l=1):\n",
        "    # X es un pd.DataFrame y y es un pd.Series\n",
        "    n = X.shape[0]\n",
        "    unique_vals = {}\n",
        "    for attr in X.columns:\n",
        "        unique_vals[attr] = pd.unique(X[attr])\n",
        "\n",
        "    unique_classes = pd.unique(y)\n",
        "    Nj = unique_classes.shape[0]\n",
        "    unique_class_probs = {}\n",
        "    attr_probs_by_class = {}\n",
        "    for i, class_val in enumerate(unique_classes):\n",
        "        class_count = y.loc[y == class_val].shape[0]\n",
        "        unique_class_probs[class_val] = (class_count + l)/(n+l*Nj) #proporcion de veces que da el valor\n",
        "        attr_probs_by_class[class_val] = {}\n",
        "        for j, attr in enumerate(X.columns):\n",
        "            unique_vals_count = np.zeros(unique_vals[attr].shape[0])\n",
        "            for k, val in enumerate(unique_vals[attr]):\n",
        "                unique_vals_count[k] = X[attr].loc[y == class_val & X[attr] == val].shape[0]\n",
        "                \n",
        "            attr_probs_by_class[class_val][attr] = (unique_vals_count[k] + l)/(class_count + l*j)\n",
        "\n",
        "    for i in range(n):\n",
        "      probs = np.zeros((n,Nj))\n",
        "      for j, class_name in enumerate(unique_classes):\n",
        "        attrs = X.iloc[i]\n",
        "        probs[i,j] = unique_class_probs[class_name]\n",
        "        for attr in attrs:\n",
        "          probs[i,j] *= attr_probs_by_class[class_name][attr]\n",
        "\n",
        "    preds = np.argmax(probs, axis=1)\n",
        "    pred_names = [unique_classes[preds[i]] for i in range(n)]\n",
        "    return pred_names\n",
        "\n",
        "    "
      ],
      "execution_count": 0,
      "outputs": []
    }
  ]
}